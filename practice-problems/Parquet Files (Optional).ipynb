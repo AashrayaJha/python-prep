{
 "cells": [
  {
   "cell_type": "markdown",
   "id": "721291ab",
   "metadata": {},
   "source": [
    "# Parquet Files (Optional)\n",
    "\n",
    "The questions in this notebook correspond to the material covered in <a href=\"../lectures/Parquet Files (Optional).ipynb\">Parquet Files (Optional)</a>."
   ]
  },
  {
   "cell_type": "code",
   "execution_count": null,
   "id": "7c468af7",
   "metadata": {},
   "outputs": [],
   "source": [
    "import pandas as pd\n",
    "import numpy as np"
   ]
  },
  {
   "cell_type": "markdown",
   "id": "99a64b16",
   "metadata": {},
   "source": [
    "1. For this notebook imagine that you are part of a team looking at how three different interventions impacted the time it takes for a participant to finish a standardized test. The code chunk below will generate data and then place it in a `DataFrame` called `df`. The four columns of `df` are, `sex` which records the sex of the participant, `study_group` which records which of the four study groups the participant was in, `age` which records the age of the participants, and `test_time` which records how long (in minutes) it took the participant to complete the test. Run this code and feel free to examine the `DataFrame`."
   ]
  },
  {
   "cell_type": "code",
   "execution_count": null,
   "id": "9d7ce2db",
   "metadata": {},
   "outputs": [],
   "source": [
    "np.random.seed(403)\n",
    "\n",
    "sex = [\"M\"]*80\n",
    "sex.extend([\"F\"]*80)\n",
    "study_group = [\"A\", \"B\", \"C\", \"D\"]*40\n",
    "age = np.random.randint(18, 35, 160)\n",
    "test_time = np.random.randint(30, 80, 160)\n",
    "\n",
    "df = pd.DataFrame({'sex':sex,\n",
    "                     'study_group':study_group,\n",
    "                     'age':age,\n",
    "                     'test_time':test_time})"
   ]
  },
  {
   "cell_type": "markdown",
   "id": "5b1e005a",
   "metadata": {},
   "source": [
    "2. Save these data to a parquet directory partitioned by `sex` then `study_group`."
   ]
  },
  {
   "cell_type": "code",
   "execution_count": null,
   "id": "07a3dab0",
   "metadata": {},
   "outputs": [],
   "source": [
    "## code here\n"
   ]
  },
  {
   "cell_type": "markdown",
   "id": "4ed4687a",
   "metadata": {},
   "source": [
    "3. Load the parquet directory using `pyarrow`. Examine the partition."
   ]
  },
  {
   "cell_type": "code",
   "execution_count": null,
   "id": "15950c9f",
   "metadata": {},
   "outputs": [],
   "source": [
    "## code here\n"
   ]
  },
  {
   "cell_type": "code",
   "execution_count": null,
   "id": "134cb096",
   "metadata": {},
   "outputs": [],
   "source": [
    "## code here\n"
   ]
  },
  {
   "cell_type": "code",
   "execution_count": null,
   "id": "5a45eed5",
   "metadata": {},
   "outputs": [],
   "source": [
    "## code here\n"
   ]
  },
  {
   "cell_type": "markdown",
   "id": "527f7630",
   "metadata": {},
   "source": [
    "4. Load a filtered version of the directory to only include male participants over the age of 25."
   ]
  },
  {
   "cell_type": "code",
   "execution_count": null,
   "id": "fff3ee99",
   "metadata": {},
   "outputs": [],
   "source": [
    "## code here\n"
   ]
  },
  {
   "cell_type": "markdown",
   "id": "295ae838",
   "metadata": {},
   "source": [
    "5. You can perform a query <i>after</i> loading the directory with `pyarrow.compute`, <a href=\"https://arrow.apache.org/docs/python/generated/pyarrow.Table.html#pyarrow.Table.filter\">https://arrow.apache.org/docs/python/generated/pyarrow.Table.html#pyarrow.Table.filter</a>. Read through the following commented code to learn how. Then try and write a query to return all male participants older than 25."
   ]
  },
  {
   "cell_type": "code",
   "execution_count": null,
   "id": "1ea856fe",
   "metadata": {},
   "outputs": [],
   "source": [
    "import pyarrow.compute as pc"
   ]
  },
  {
   "cell_type": "code",
   "execution_count": null,
   "id": "8a326e46",
   "metadata": {},
   "outputs": [],
   "source": [
    "## This defines a logical expression for the query\n",
    "## pc.field specifies which column you want to use for the expression\n",
    "expr = pc.field(\"sex\") == \"F\"\n",
    "\n",
    "## This filters the table\n",
    "## study_pq.read() reads in the file as a table to be filtered\n",
    "study_pq_F = study_pq.read().filter(expr).to_pandas()\n",
    "\n",
    "\n",
    "study_pq_F.sex.value_counts()"
   ]
  },
  {
   "cell_type": "code",
   "execution_count": null,
   "id": "f4832413",
   "metadata": {},
   "outputs": [],
   "source": [
    "## code here\n"
   ]
  },
  {
   "cell_type": "markdown",
   "id": "ed476722",
   "metadata": {},
   "source": [
    "--------------------------\n",
    "\n",
    "This notebook was written for the Erd&#337;s Institute C&#337;de Data Science Boot Camp by Matthew Osborne, Ph. D., 2023.\n",
    "\n",
    "Any potential redistributors must seek and receive permission from Matthew Tyler Osborne, Ph.D. prior to redistribution. Redistribution of the material contained in this repository is conditional on acknowledgement of Matthew Tyler Osborne, Ph.D.'s original authorship and sponsorship of the Erdős Institute as subject to the license (see License.md)"
   ]
  },
  {
   "cell_type": "code",
   "execution_count": null,
   "id": "50d98192",
   "metadata": {},
   "outputs": [],
   "source": []
  }
 ],
 "metadata": {
  "kernelspec": {
   "display_name": "Python 3 (ipykernel)",
   "language": "python",
   "name": "python3"
  },
  "language_info": {
   "codemirror_mode": {
    "name": "ipython",
    "version": 3
   },
   "file_extension": ".py",
   "mimetype": "text/x-python",
   "name": "python",
   "nbconvert_exporter": "python",
   "pygments_lexer": "ipython3",
   "version": "3.9.16"
  }
 },
 "nbformat": 4,
 "nbformat_minor": 5
}
