{
 "cells": [
  {
   "cell_type": "markdown",
   "id": "c7047867",
   "metadata": {},
   "source": [
    "# `ydata-profiling` (Optional)\n",
    "\n",
    "The questions in this notebook correspond to the material covered in <a href=\"../lectures/ydata-profiling (Optional).ipynb\">ydata-profiling (Optional)</a>."
   ]
  },
  {
   "cell_type": "markdown",
   "id": "01bce9d3",
   "metadata": {},
   "source": [
    "1. Load the file `penguins.csv` from the `data` folder using `pandas`. Look at the first five rows."
   ]
  },
  {
   "cell_type": "code",
   "execution_count": null,
   "id": "563dae2c",
   "metadata": {},
   "outputs": [],
   "source": [
    "## code here\n"
   ]
  },
  {
   "cell_type": "code",
   "execution_count": null,
   "id": "059dc6fa",
   "metadata": {},
   "outputs": [],
   "source": [
    "## code here\n"
   ]
  },
  {
   "cell_type": "code",
   "execution_count": null,
   "id": "91302fe5",
   "metadata": {},
   "outputs": [],
   "source": [
    "## code here\n"
   ]
  },
  {
   "cell_type": "markdown",
   "id": "c320dc92",
   "metadata": {},
   "source": [
    "2. Read through this data breakdown.\n",
    "\n",
    "Column descriptions:\n",
    "- `species`: The species of penguin,\n",
    "- `island`: The island the penguin resided on,\n",
    "- `bill_length_mm`: The length of the penguin's bill in mm,\n",
    "- `bill_depth_mm`: The depth of the penguin's bill in mm,\n",
    "- `flipper_length_mm`: The length of the penguin's flipper in mm,\n",
    "- `body_mass_g`: The mass of the penguin in g, \n",
    "- `sex`: The sex of the penguin."
   ]
  },
  {
   "cell_type": "markdown",
   "id": "5c867bd5",
   "metadata": {},
   "source": [
    "3. Generate a profile report using `ydata-profiling` and then display the report."
   ]
  },
  {
   "cell_type": "code",
   "execution_count": null,
   "id": "affed2b0",
   "metadata": {},
   "outputs": [],
   "source": [
    "## code here\n"
   ]
  },
  {
   "cell_type": "code",
   "execution_count": null,
   "id": "ffb5ecfb",
   "metadata": {},
   "outputs": [],
   "source": [
    "## code here\n"
   ]
  },
  {
   "cell_type": "code",
   "execution_count": null,
   "id": "c7ee8eca",
   "metadata": {},
   "outputs": [],
   "source": [
    "## code here\n"
   ]
  },
  {
   "cell_type": "markdown",
   "id": "596e5b28",
   "metadata": {},
   "source": [
    "4. Use the report to answer the following questions about the data set.\n",
    "    1. Which variables have missing values, and how many?\n",
    "    2. What alerts have been raised?\n",
    "    3. How many of each penguin type are there?\n",
    "    4. How many penguins resided on each island?\n",
    "    5. What are the minimum, median, and maximum body mass?\n",
    "    6. How is body mass correlated with flipper length?"
   ]
  },
  {
   "cell_type": "code",
   "execution_count": null,
   "id": "64bc205a",
   "metadata": {},
   "outputs": [],
   "source": []
  },
  {
   "cell_type": "code",
   "execution_count": null,
   "id": "40a75a72",
   "metadata": {},
   "outputs": [],
   "source": []
  },
  {
   "cell_type": "markdown",
   "id": "01f4594d",
   "metadata": {},
   "source": [
    "5. Export the report to an HTML file. Feel free to email it to your best friend."
   ]
  },
  {
   "cell_type": "code",
   "execution_count": null,
   "id": "0bab4ef3",
   "metadata": {},
   "outputs": [],
   "source": [
    "## code here\n"
   ]
  },
  {
   "cell_type": "code",
   "execution_count": null,
   "id": "8b29af88",
   "metadata": {},
   "outputs": [],
   "source": [
    "## code here\n"
   ]
  },
  {
   "cell_type": "markdown",
   "id": "1292dd85",
   "metadata": {},
   "source": [
    "--------------------------\n",
    "\n",
    "This notebook was written for the Erd&#337;s Institute C&#337;de Data Science Boot Camp by Matthew Osborne, Ph. D., 2023.\n",
    "\n",
    "Any potential redistributors must seek and receive permission from Matthew Tyler Osborne, Ph.D. prior to redistribution. Redistribution of the material contained in this repository is conditional on acknowledgement of Matthew Tyler Osborne, Ph.D.'s original authorship and sponsorship of the Erdős Institute as subject to the license (see License.md)"
   ]
  },
  {
   "cell_type": "code",
   "execution_count": null,
   "id": "19b7e459",
   "metadata": {},
   "outputs": [],
   "source": []
  }
 ],
 "metadata": {
  "kernelspec": {
   "display_name": "Python 3 (ipykernel)",
   "language": "python",
   "name": "python3"
  },
  "language_info": {
   "codemirror_mode": {
    "name": "ipython",
    "version": 3
   },
   "file_extension": ".py",
   "mimetype": "text/x-python",
   "name": "python",
   "nbconvert_exporter": "python",
   "pygments_lexer": "ipython3",
   "version": "3.9.15"
  }
 },
 "nbformat": 4,
 "nbformat_minor": 5
}
