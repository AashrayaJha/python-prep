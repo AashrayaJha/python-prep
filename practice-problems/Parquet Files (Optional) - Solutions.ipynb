{
 "cells": [
  {
   "cell_type": "markdown",
   "id": "721291ab",
   "metadata": {},
   "source": [
    "# Parquet Files (Optional)\n",
    "\n",
    "The questions in this notebook correspond to the material covered in <a href=\"../lectures/Parquet Files (Optional).ipynb\">Parquet Files (Optional)</a>."
   ]
  },
  {
   "cell_type": "code",
   "execution_count": 1,
   "id": "7c468af7",
   "metadata": {},
   "outputs": [],
   "source": [
    "import pandas as pd\n",
    "import numpy as np"
   ]
  },
  {
   "cell_type": "markdown",
   "id": "99a64b16",
   "metadata": {},
   "source": [
    "1. For this notebook imagine that you are part of a team looking at how three different interventions impacted the time it takes for a participant to finish a standardized test. The code chunk below will generate data and then place it in a `DataFrame` called `df`. The four columns of `df` are, `sex` which records the sex of the participant, `study_group` which records which of the four study groups the participant was in, `age` which records the age of the participants, and `test_time` which records how long (in minutes) it took the participant to complete the test. Run this code and feel free to examine the `DataFrame`."
   ]
  },
  {
   "cell_type": "code",
   "execution_count": 2,
   "id": "9d7ce2db",
   "metadata": {},
   "outputs": [
    {
     "data": {
      "text/html": [
       "<div>\n",
       "<style scoped>\n",
       "    .dataframe tbody tr th:only-of-type {\n",
       "        vertical-align: middle;\n",
       "    }\n",
       "\n",
       "    .dataframe tbody tr th {\n",
       "        vertical-align: top;\n",
       "    }\n",
       "\n",
       "    .dataframe thead th {\n",
       "        text-align: right;\n",
       "    }\n",
       "</style>\n",
       "<table border=\"1\" class=\"dataframe\">\n",
       "  <thead>\n",
       "    <tr style=\"text-align: right;\">\n",
       "      <th></th>\n",
       "      <th>sex</th>\n",
       "      <th>study_group</th>\n",
       "      <th>age</th>\n",
       "      <th>test_time</th>\n",
       "    </tr>\n",
       "  </thead>\n",
       "  <tbody>\n",
       "    <tr>\n",
       "      <th>0</th>\n",
       "      <td>M</td>\n",
       "      <td>A</td>\n",
       "      <td>34</td>\n",
       "      <td>79</td>\n",
       "    </tr>\n",
       "    <tr>\n",
       "      <th>1</th>\n",
       "      <td>M</td>\n",
       "      <td>B</td>\n",
       "      <td>30</td>\n",
       "      <td>53</td>\n",
       "    </tr>\n",
       "    <tr>\n",
       "      <th>2</th>\n",
       "      <td>M</td>\n",
       "      <td>C</td>\n",
       "      <td>23</td>\n",
       "      <td>46</td>\n",
       "    </tr>\n",
       "    <tr>\n",
       "      <th>3</th>\n",
       "      <td>M</td>\n",
       "      <td>D</td>\n",
       "      <td>19</td>\n",
       "      <td>76</td>\n",
       "    </tr>\n",
       "    <tr>\n",
       "      <th>4</th>\n",
       "      <td>M</td>\n",
       "      <td>A</td>\n",
       "      <td>20</td>\n",
       "      <td>66</td>\n",
       "    </tr>\n",
       "    <tr>\n",
       "      <th>...</th>\n",
       "      <td>...</td>\n",
       "      <td>...</td>\n",
       "      <td>...</td>\n",
       "      <td>...</td>\n",
       "    </tr>\n",
       "    <tr>\n",
       "      <th>155</th>\n",
       "      <td>F</td>\n",
       "      <td>D</td>\n",
       "      <td>18</td>\n",
       "      <td>72</td>\n",
       "    </tr>\n",
       "    <tr>\n",
       "      <th>156</th>\n",
       "      <td>F</td>\n",
       "      <td>A</td>\n",
       "      <td>20</td>\n",
       "      <td>62</td>\n",
       "    </tr>\n",
       "    <tr>\n",
       "      <th>157</th>\n",
       "      <td>F</td>\n",
       "      <td>B</td>\n",
       "      <td>34</td>\n",
       "      <td>67</td>\n",
       "    </tr>\n",
       "    <tr>\n",
       "      <th>158</th>\n",
       "      <td>F</td>\n",
       "      <td>C</td>\n",
       "      <td>29</td>\n",
       "      <td>46</td>\n",
       "    </tr>\n",
       "    <tr>\n",
       "      <th>159</th>\n",
       "      <td>F</td>\n",
       "      <td>D</td>\n",
       "      <td>30</td>\n",
       "      <td>49</td>\n",
       "    </tr>\n",
       "  </tbody>\n",
       "</table>\n",
       "<p>160 rows × 4 columns</p>\n",
       "</div>"
      ],
      "text/plain": [
       "    sex study_group  age  test_time\n",
       "0     M           A   34         79\n",
       "1     M           B   30         53\n",
       "2     M           C   23         46\n",
       "3     M           D   19         76\n",
       "4     M           A   20         66\n",
       "..   ..         ...  ...        ...\n",
       "155   F           D   18         72\n",
       "156   F           A   20         62\n",
       "157   F           B   34         67\n",
       "158   F           C   29         46\n",
       "159   F           D   30         49\n",
       "\n",
       "[160 rows x 4 columns]"
      ]
     },
     "execution_count": 2,
     "metadata": {},
     "output_type": "execute_result"
    }
   ],
   "source": [
    "np.random.seed(403)\n",
    "\n",
    "sex = [\"M\"]*80\n",
    "sex.extend([\"F\"]*80)\n",
    "study_group = [\"A\", \"B\", \"C\", \"D\"]*40\n",
    "age = np.random.randint(18, 35, 160)\n",
    "test_time = np.random.randint(30, 80, 160)\n",
    "\n",
    "df = pd.DataFrame({'sex':sex,\n",
    "                     'study_group':study_group,\n",
    "                     'age':age,\n",
    "                     'test_time':test_time})\n",
    "\n",
    "df"
   ]
  },
  {
   "cell_type": "markdown",
   "id": "5b1e005a",
   "metadata": {},
   "source": [
    "2. Save these data to a parquet directory partitioned by `sex` then `study_group`."
   ]
  },
  {
   "cell_type": "code",
   "execution_count": 3,
   "id": "07a3dab0",
   "metadata": {},
   "outputs": [],
   "source": [
    "df.to_parquet(\"../data/test_time_study/\", \n",
    "              partition_cols=['sex', 'study_group'],\n",
    "              index=False)"
   ]
  },
  {
   "cell_type": "markdown",
   "id": "57febda5",
   "metadata": {},
   "source": [
    "3. Load the parquet directory using `pyarrow`. Examine the partition."
   ]
  },
  {
   "cell_type": "code",
   "execution_count": 4,
   "id": "15950c9f",
   "metadata": {},
   "outputs": [],
   "source": [
    "import pyarrow.parquet as pq"
   ]
  },
  {
   "cell_type": "code",
   "execution_count": 5,
   "id": "134cb096",
   "metadata": {},
   "outputs": [],
   "source": [
    "study_pq = pq.ParquetDataset(\"../data/test_time_study/\")"
   ]
  },
  {
   "cell_type": "code",
   "execution_count": 6,
   "id": "5a45eed5",
   "metadata": {},
   "outputs": [
    {
     "data": {
      "text/plain": [
       "[<pyarrow.lib.StringArray object at 0x1188435e0>\n",
       " [\n",
       "   \"F\",\n",
       "   \"M\"\n",
       " ],\n",
       " <pyarrow.lib.StringArray object at 0x1188437c0>\n",
       " [\n",
       "   \"A\",\n",
       "   \"B\",\n",
       "   \"C\",\n",
       "   \"D\"\n",
       " ]]"
      ]
     },
     "execution_count": 6,
     "metadata": {},
     "output_type": "execute_result"
    }
   ],
   "source": [
    "study_pq.partitioning.dictionaries"
   ]
  },
  {
   "cell_type": "markdown",
   "id": "dc3b7e83",
   "metadata": {},
   "source": [
    "4. Load a filtered version of the directory to only include male participants over the age of 25."
   ]
  },
  {
   "cell_type": "code",
   "execution_count": 7,
   "id": "6288296d",
   "metadata": {},
   "outputs": [
    {
     "name": "stdout",
     "output_type": "stream",
     "text": [
      "M    132\n",
      "F      0\n",
      "Name: sex, dtype: int64\n"
     ]
    },
    {
     "data": {
      "text/html": [
       "<div>\n",
       "<style scoped>\n",
       "    .dataframe tbody tr th:only-of-type {\n",
       "        vertical-align: middle;\n",
       "    }\n",
       "\n",
       "    .dataframe tbody tr th {\n",
       "        vertical-align: top;\n",
       "    }\n",
       "\n",
       "    .dataframe thead th {\n",
       "        text-align: right;\n",
       "    }\n",
       "</style>\n",
       "<table border=\"1\" class=\"dataframe\">\n",
       "  <thead>\n",
       "    <tr style=\"text-align: right;\">\n",
       "      <th></th>\n",
       "      <th>age</th>\n",
       "      <th>test_time</th>\n",
       "    </tr>\n",
       "  </thead>\n",
       "  <tbody>\n",
       "    <tr>\n",
       "      <th>count</th>\n",
       "      <td>132.000000</td>\n",
       "      <td>132.000000</td>\n",
       "    </tr>\n",
       "    <tr>\n",
       "      <th>mean</th>\n",
       "      <td>28.886364</td>\n",
       "      <td>55.545455</td>\n",
       "    </tr>\n",
       "    <tr>\n",
       "      <th>std</th>\n",
       "      <td>2.631714</td>\n",
       "      <td>14.172527</td>\n",
       "    </tr>\n",
       "    <tr>\n",
       "      <th>min</th>\n",
       "      <td>26.000000</td>\n",
       "      <td>30.000000</td>\n",
       "    </tr>\n",
       "    <tr>\n",
       "      <th>25%</th>\n",
       "      <td>27.000000</td>\n",
       "      <td>45.250000</td>\n",
       "    </tr>\n",
       "    <tr>\n",
       "      <th>50%</th>\n",
       "      <td>28.000000</td>\n",
       "      <td>55.500000</td>\n",
       "    </tr>\n",
       "    <tr>\n",
       "      <th>75%</th>\n",
       "      <td>31.000000</td>\n",
       "      <td>67.250000</td>\n",
       "    </tr>\n",
       "    <tr>\n",
       "      <th>max</th>\n",
       "      <td>34.000000</td>\n",
       "      <td>79.000000</td>\n",
       "    </tr>\n",
       "  </tbody>\n",
       "</table>\n",
       "</div>"
      ],
      "text/plain": [
       "              age   test_time\n",
       "count  132.000000  132.000000\n",
       "mean    28.886364   55.545455\n",
       "std      2.631714   14.172527\n",
       "min     26.000000   30.000000\n",
       "25%     27.000000   45.250000\n",
       "50%     28.000000   55.500000\n",
       "75%     31.000000   67.250000\n",
       "max     34.000000   79.000000"
      ]
     },
     "execution_count": 7,
     "metadata": {},
     "output_type": "execute_result"
    }
   ],
   "source": [
    "study_pq_filt = pq.ParquetDataset(\"../data/test_time_study/\",\n",
    "                                  filters=[('sex', '=', 'M'),\n",
    "                                           ('age', '>', 25)])\n",
    "\n",
    "print(study_pq_filt.read().to_pandas().sex.value_counts())\n",
    "\n",
    "study_pq_filt.read().to_pandas().describe()"
   ]
  },
  {
   "cell_type": "markdown",
   "id": "295ae838",
   "metadata": {},
   "source": [
    "5. You can perform a query <i>after</i> loading the directory with `pyarrow.compute`, <a href=\"https://arrow.apache.org/docs/python/generated/pyarrow.Table.html#pyarrow.Table.filter\">https://arrow.apache.org/docs/python/generated/pyarrow.Table.html#pyarrow.Table.filter</a>. Read through the following commented code to learn how. Then try and write a query to return all male participants older than 25."
   ]
  },
  {
   "cell_type": "code",
   "execution_count": 8,
   "id": "1ea856fe",
   "metadata": {},
   "outputs": [],
   "source": [
    "import pyarrow.compute as pc"
   ]
  },
  {
   "cell_type": "code",
   "execution_count": 9,
   "id": "8a326e46",
   "metadata": {},
   "outputs": [
    {
     "data": {
      "text/plain": [
       "F    240\n",
       "M      0\n",
       "Name: sex, dtype: int64"
      ]
     },
     "execution_count": 9,
     "metadata": {},
     "output_type": "execute_result"
    }
   ],
   "source": [
    "## This defines a logical expression for the query\n",
    "## pc.field specifies which column you want to use for the expression\n",
    "expr = pc.field(\"sex\") == \"F\"\n",
    "\n",
    "## This filters the table\n",
    "## study_pq.read() reads in the file as a table to be filtered\n",
    "study_pq_F = study_pq.read().filter(expr).to_pandas()\n",
    "\n",
    "\n",
    "study_pq_F.sex.value_counts()"
   ]
  },
  {
   "cell_type": "code",
   "execution_count": 10,
   "id": "f4832413",
   "metadata": {},
   "outputs": [
    {
     "data": {
      "text/html": [
       "<div>\n",
       "<style scoped>\n",
       "    .dataframe tbody tr th:only-of-type {\n",
       "        vertical-align: middle;\n",
       "    }\n",
       "\n",
       "    .dataframe tbody tr th {\n",
       "        vertical-align: top;\n",
       "    }\n",
       "\n",
       "    .dataframe thead th {\n",
       "        text-align: right;\n",
       "    }\n",
       "</style>\n",
       "<table border=\"1\" class=\"dataframe\">\n",
       "  <thead>\n",
       "    <tr style=\"text-align: right;\">\n",
       "      <th></th>\n",
       "      <th>age</th>\n",
       "      <th>test_time</th>\n",
       "      <th>sex</th>\n",
       "      <th>study_group</th>\n",
       "    </tr>\n",
       "  </thead>\n",
       "  <tbody>\n",
       "    <tr>\n",
       "      <th>0</th>\n",
       "      <td>34</td>\n",
       "      <td>79</td>\n",
       "      <td>M</td>\n",
       "      <td>A</td>\n",
       "    </tr>\n",
       "    <tr>\n",
       "      <th>1</th>\n",
       "      <td>27</td>\n",
       "      <td>41</td>\n",
       "      <td>M</td>\n",
       "      <td>A</td>\n",
       "    </tr>\n",
       "    <tr>\n",
       "      <th>2</th>\n",
       "      <td>32</td>\n",
       "      <td>64</td>\n",
       "      <td>M</td>\n",
       "      <td>A</td>\n",
       "    </tr>\n",
       "    <tr>\n",
       "      <th>3</th>\n",
       "      <td>26</td>\n",
       "      <td>58</td>\n",
       "      <td>M</td>\n",
       "      <td>A</td>\n",
       "    </tr>\n",
       "    <tr>\n",
       "      <th>4</th>\n",
       "      <td>33</td>\n",
       "      <td>51</td>\n",
       "      <td>M</td>\n",
       "      <td>A</td>\n",
       "    </tr>\n",
       "    <tr>\n",
       "      <th>...</th>\n",
       "      <td>...</td>\n",
       "      <td>...</td>\n",
       "      <td>...</td>\n",
       "      <td>...</td>\n",
       "    </tr>\n",
       "    <tr>\n",
       "      <th>127</th>\n",
       "      <td>26</td>\n",
       "      <td>54</td>\n",
       "      <td>M</td>\n",
       "      <td>D</td>\n",
       "    </tr>\n",
       "    <tr>\n",
       "      <th>128</th>\n",
       "      <td>28</td>\n",
       "      <td>64</td>\n",
       "      <td>M</td>\n",
       "      <td>D</td>\n",
       "    </tr>\n",
       "    <tr>\n",
       "      <th>129</th>\n",
       "      <td>32</td>\n",
       "      <td>63</td>\n",
       "      <td>M</td>\n",
       "      <td>D</td>\n",
       "    </tr>\n",
       "    <tr>\n",
       "      <th>130</th>\n",
       "      <td>27</td>\n",
       "      <td>52</td>\n",
       "      <td>M</td>\n",
       "      <td>D</td>\n",
       "    </tr>\n",
       "    <tr>\n",
       "      <th>131</th>\n",
       "      <td>28</td>\n",
       "      <td>53</td>\n",
       "      <td>M</td>\n",
       "      <td>D</td>\n",
       "    </tr>\n",
       "  </tbody>\n",
       "</table>\n",
       "<p>132 rows × 4 columns</p>\n",
       "</div>"
      ],
      "text/plain": [
       "     age  test_time sex study_group\n",
       "0     34         79   M           A\n",
       "1     27         41   M           A\n",
       "2     32         64   M           A\n",
       "3     26         58   M           A\n",
       "4     33         51   M           A\n",
       "..   ...        ...  ..         ...\n",
       "127   26         54   M           D\n",
       "128   28         64   M           D\n",
       "129   32         63   M           D\n",
       "130   27         52   M           D\n",
       "131   28         53   M           D\n",
       "\n",
       "[132 rows x 4 columns]"
      ]
     },
     "execution_count": 10,
     "metadata": {},
     "output_type": "execute_result"
    }
   ],
   "source": [
    "study_pq.read().filter((pc.field(\"sex\") == \"M\") & (pc.field(\"age\") > 25)).to_pandas()"
   ]
  },
  {
   "cell_type": "markdown",
   "id": "ed476722",
   "metadata": {},
   "source": [
    "--------------------------\n",
    "\n",
    "This notebook was written for the Erd&#337;s Institute C&#337;de Data Science Boot Camp by Matthew Osborne, Ph. D., 2023.\n",
    "\n",
    "Any potential redistributors must seek and receive permission from Matthew Tyler Osborne, Ph.D. prior to redistribution. Redistribution of the material contained in this repository is conditional on acknowledgement of Matthew Tyler Osborne, Ph.D.'s original authorship and sponsorship of the Erdős Institute as subject to the license (see License.md)"
   ]
  },
  {
   "cell_type": "code",
   "execution_count": null,
   "id": "50d98192",
   "metadata": {},
   "outputs": [],
   "source": []
  }
 ],
 "metadata": {
  "kernelspec": {
   "display_name": "Python 3 (ipykernel)",
   "language": "python",
   "name": "python3"
  },
  "language_info": {
   "codemirror_mode": {
    "name": "ipython",
    "version": 3
   },
   "file_extension": ".py",
   "mimetype": "text/x-python",
   "name": "python",
   "nbconvert_exporter": "python",
   "pygments_lexer": "ipython3",
   "version": "3.9.16"
  }
 },
 "nbformat": 4,
 "nbformat_minor": 5
}
