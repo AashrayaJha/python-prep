{
 "cells": [
  {
   "cell_type": "markdown",
   "id": "b50f0038",
   "metadata": {},
   "source": [
    "# `ydata-profiling`\n",
    "\n",
    "`ydata-profiling` is an additional data exploration python package that you may be interested in exploring.\n",
    "\n",
    "## What we will accomplish\n",
    "\n",
    "In this notebook we will:\n",
    "- Introduce the `ydata-profiling` package,\n",
    "- Mention the installation instructions,\n",
    "- Demonstrate some of the functionality of this package, and\n",
    "- Point in the direction of where we can learn more about the package."
   ]
  },
  {
   "cell_type": "code",
   "execution_count": null,
   "id": "adbcef07",
   "metadata": {},
   "outputs": [],
   "source": [
    "import pandas as pd\n",
    "import numpy as np"
   ]
  },
  {
   "cell_type": "markdown",
   "id": "b8e34da2",
   "metadata": {},
   "source": [
    "## The iris data set\n",
    "\n",
    "For this notebook we will look at the iris data set. This data provides information on the:\n",
    "- Iris type,\n",
    "- Petal length,\n",
    "- Petal width,\n",
    "- Sepal length, and\n",
    "- Sepal width\n",
    "for 150 irises. It is stored in the `data` folder, but a version of the data set, along with a data description can also be found here, <a href=\"https://archive.ics.uci.edu/ml/datasets/iris\">https://archive.ics.uci.edu/ml/datasets/iris</a>. Let's load the data now, and show the first five rows.\n",
    "\n",
    "<i>Note: I will quickly clean part of the data so that the `target` column provides human readable values for the iris type instead of integers.</i>"
   ]
  },
  {
   "cell_type": "code",
   "execution_count": null,
   "id": "ed7a6cf7",
   "metadata": {},
   "outputs": [],
   "source": [
    "df = pd.read_csv(\"../data/iris.csv\")\n",
    "\n",
    "df.loc[df.target == 0, 'target'] = \"setosa\"\n",
    "df.loc[df.target == 1, 'target'] = \"versicolor\"\n",
    "df.loc[df.target == 2, 'target'] = \"virginica\"\n",
    "\n",
    "df = df.rename(columns = {'target':'iris_type'})\n",
    "\n",
    "\n",
    "df.head()"
   ]
  },
  {
   "cell_type": "markdown",
   "id": "de6749b3",
   "metadata": {},
   "source": [
    "## `ydata-profiling` installation and version\n",
    "\n",
    "`ydata-profiling` is not a common package to already have installed. It is likely that you will have to install the package before proceeding. Installation instructions can be found here, <a href=\"https://ydata-profiling.ydata.ai/docs/master/pages/getting_started/installation.html\">https://ydata-profiling.ydata.ai/docs/master/pages/getting_started/installation.html</a>. If you are unsure how to install a python package you should also examing the python package installation guide on the Erd&#337;s Institute website.\n",
    "\n",
    "Once you think you have successfully installed `ydata-profiling` try running the following code."
   ]
  },
  {
   "cell_type": "code",
   "execution_count": null,
   "id": "4b12825a",
   "metadata": {},
   "outputs": [],
   "source": []
  },
  {
   "cell_type": "code",
   "execution_count": null,
   "id": "59c06817",
   "metadata": {},
   "outputs": [],
   "source": [
    "## This notebook was written with version 4.1.1\n",
    "print(ydata_profiling.__version__)"
   ]
  },
  {
   "cell_type": "markdown",
   "id": "0e5eb4ab",
   "metadata": {},
   "source": [
    "## Generating exploratory data analysis <i>profiles</i>\n",
    "\n",
    "A common step in data analysis or data science is exploratory data analysis (EDA). EDA involved the calculation of basic statistics and the plotting of variables from your data in order to explore possible relationships or patterns of the data.\n",
    "\n",
    "While most of your common EDA steps or procedures can be accomplished with `pandas` or `numpy`, it can take a fair amount of code to perform those steps in a way that is quickly interpretable. the `ydata-profiling` package offers a quick and easy way to generate and investigate some of the most common EDA steps.\n",
    "\n",
    "`ydata-profiling` enables us to create a <i>profile report</i> of a `DataFrame` in a couple of lines of code."
   ]
  },
  {
   "cell_type": "code",
   "execution_count": null,
   "id": "17e02cf6",
   "metadata": {},
   "outputs": [],
   "source": [
    "## Importing the ProfileReport Class\n"
   ]
  },
  {
   "cell_type": "code",
   "execution_count": null,
   "id": "cce7fc42",
   "metadata": {},
   "outputs": [],
   "source": [
    "## You create a profile report by providing a data frame\n",
    "## and optionally a title\n",
    "profile = "
   ]
  },
  {
   "cell_type": "code",
   "execution_count": null,
   "id": "80cec0a0",
   "metadata": {},
   "outputs": [],
   "source": [
    "## To display the profile report in a jupyter notebook\n",
    "## run profile.to_notebook_iframe()\n",
    "profile"
   ]
  },
  {
   "cell_type": "markdown",
   "id": "c7cfa0cd",
   "metadata": {},
   "source": [
    "As we can see the profile report provides a number of useful EDA in an easy to read format. One useful features, not present in standard `pandas` or `numpy` is the \"Alerts\" tab. This tab provides alerts when your data exhibits certain behavior that could be troublesome for standard analysis. For example, in the iris data many columns are highly correlated, which can cause a problem for regression algorithms. For a full list of possible alerts see this page of the documentation, <a href=\"https://ydata-profiling.ydata.ai/docs/master/pages/getting_started/concepts.html#data-quality-alerts\">https://ydata-profiling.ydata.ai/docs/master/pages/getting_started/concepts.html#data-quality-alerts</a>.\n",
    "\n",
    "### Exporting reports\n",
    "\n",
    "In addition to viewing your report inside a `jupyter notebook`, you can also export your report to an HTML file, with `profile.to_file(\"filename.html\")`. This could be preferred if you want to share the report with someone that does not use `jupyter notebook`s."
   ]
  },
  {
   "cell_type": "code",
   "execution_count": null,
   "id": "64442649",
   "metadata": {},
   "outputs": [],
   "source": []
  },
  {
   "cell_type": "markdown",
   "id": "e93da80f",
   "metadata": {},
   "source": [
    "## Learning more\n",
    "\n",
    "This is a basic introduction to the package, so you may be interested in learning more. To learn more about what you can do with this package, check out the documentation page here, <a href=\"https://ydata-profiling.ydata.ai/docs/master/index.html\">https://ydata-profiling.ydata.ai/docs/master/index.html</a>. There you can find examples and explanations of what else is possible with `ydata-profiling`."
   ]
  },
  {
   "cell_type": "markdown",
   "id": "4f06e7c5",
   "metadata": {},
   "source": [
    "--------------------------\n",
    "\n",
    "This notebook was written for the Erd&#337;s Institute C&#337;de Data Science Boot Camp by Matthew Osborne, Ph. D., 2023.\n",
    "\n",
    "Any potential redistributors must seek and receive permission from Matthew Tyler Osborne, Ph.D. prior to redistribution. Redistribution of the material contained in this repository is conditional on acknowledgement of Matthew Tyler Osborne, Ph.D.'s original authorship and sponsorship of the Erdős Institute as subject to the license (see License.md)"
   ]
  },
  {
   "cell_type": "code",
   "execution_count": null,
   "id": "7a51777c",
   "metadata": {},
   "outputs": [],
   "source": []
  }
 ],
 "metadata": {
  "kernelspec": {
   "display_name": "Python 3 (ipykernel)",
   "language": "python",
   "name": "python3"
  },
  "language_info": {
   "codemirror_mode": {
    "name": "ipython",
    "version": 3
   },
   "file_extension": ".py",
   "mimetype": "text/x-python",
   "name": "python",
   "nbconvert_exporter": "python",
   "pygments_lexer": "ipython3",
   "version": "3.9.16"
  }
 },
 "nbformat": 4,
 "nbformat_minor": 5
}
