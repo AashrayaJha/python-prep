{
 "cells": [
  {
   "cell_type": "markdown",
   "id": "c5402da4",
   "metadata": {},
   "source": [
    "# Skill Assessment 2"
   ]
  },
  {
   "cell_type": "markdown",
   "id": "7538e166",
   "metadata": {},
   "source": [
    "1. Import `pandas`, `numpy`, and `matplotlib`."
   ]
  },
  {
   "cell_type": "code",
   "execution_count": null,
   "id": "344af35c",
   "metadata": {},
   "outputs": [],
   "source": [
    "## code here\n"
   ]
  },
  {
   "cell_type": "markdown",
   "id": "dc3f4527",
   "metadata": {},
   "source": [
    "2. Load the `tips.tsv` data from the `data` folder."
   ]
  },
  {
   "cell_type": "code",
   "execution_count": null,
   "id": "d5fdbdde",
   "metadata": {},
   "outputs": [],
   "source": [
    "## code here\n"
   ]
  },
  {
   "cell_type": "markdown",
   "id": "e3d6dc3f",
   "metadata": {},
   "source": [
    "3. List the columns of the `DataFrame` you just loaded, how many rows does the `DataFrame` have?"
   ]
  },
  {
   "cell_type": "code",
   "execution_count": null,
   "id": "5ac308e2",
   "metadata": {},
   "outputs": [],
   "source": [
    "## code here\n"
   ]
  },
  {
   "cell_type": "code",
   "execution_count": null,
   "id": "9ced1c4e",
   "metadata": {},
   "outputs": [],
   "source": [
    "## code here\n"
   ]
  },
  {
   "cell_type": "markdown",
   "id": "ca57cc06",
   "metadata": {},
   "source": [
    "4. Look at the first 5 rows of the data set, look at the last 2 rows of the data set, look at a random sample of 7 rows of the data set."
   ]
  },
  {
   "cell_type": "code",
   "execution_count": null,
   "id": "ddc98ba8",
   "metadata": {},
   "outputs": [],
   "source": [
    "## code here\n"
   ]
  },
  {
   "cell_type": "code",
   "execution_count": null,
   "id": "6310ebdc",
   "metadata": {},
   "outputs": [],
   "source": [
    "## code here\n"
   ]
  },
  {
   "cell_type": "code",
   "execution_count": null,
   "id": "c0eb2b7d",
   "metadata": {},
   "outputs": [],
   "source": [
    "## code here\n"
   ]
  },
  {
   "cell_type": "markdown",
   "id": "4f2558de",
   "metadata": {},
   "source": [
    "5. Return the entries in the 52nd and 71st rows."
   ]
  },
  {
   "cell_type": "code",
   "execution_count": null,
   "id": "1824a053",
   "metadata": {},
   "outputs": [],
   "source": [
    "## code here\n"
   ]
  },
  {
   "cell_type": "markdown",
   "id": "60e71ff3",
   "metadata": {},
   "source": [
    "6. Read the following information about this data.\n",
    "\n",
    "The tips data set contains information on the tips that servers received at a restaurant. Here is a description of the columns:\n",
    "- `total_bill`: The total bill for the table,\n",
    "- `tip`: The total tip given by the table,\n",
    "- `sex`: Whether the bill payer was a `'Male'` or `'Female'`,\n",
    "- `smoker`: Tells whether smokers were at the table,\n",
    "- `day`: What day of the week did the meal occur?\n",
    "- `time`: What meal was it?\n",
    "- `size`: How many diners were at the table?"
   ]
  },
  {
   "cell_type": "markdown",
   "id": "f0448feb",
   "metadata": {},
   "source": [
    "7. What was the average bill for tables with a smoker?"
   ]
  },
  {
   "cell_type": "code",
   "execution_count": null,
   "id": "cc67e4ca",
   "metadata": {},
   "outputs": [],
   "source": [
    "## code here\n"
   ]
  },
  {
   "cell_type": "markdown",
   "id": "cc82c4e8",
   "metadata": {},
   "source": [
    "8. Make a new column that calculates the tip percentage."
   ]
  },
  {
   "cell_type": "code",
   "execution_count": null,
   "id": "83fc6355",
   "metadata": {},
   "outputs": [],
   "source": [
    "## code here\n"
   ]
  },
  {
   "cell_type": "markdown",
   "id": "cb976877",
   "metadata": {},
   "source": [
    "9. Give a breakdown of the tip percentage column you just calculated. What was the:\n",
    "- Minimum\n",
    "- 25th percentile,\n",
    "- Median,\n",
    "- 75th percentile,\n",
    "- Maximum?"
   ]
  },
  {
   "cell_type": "code",
   "execution_count": null,
   "id": "09a0e45f",
   "metadata": {},
   "outputs": [],
   "source": [
    "## code here\n"
   ]
  },
  {
   "cell_type": "markdown",
   "id": "da564220",
   "metadata": {},
   "source": [
    "10. How many of the bill payers were male, how many were female?"
   ]
  },
  {
   "cell_type": "code",
   "execution_count": null,
   "id": "7bb7ea75",
   "metadata": {},
   "outputs": [],
   "source": [
    "## code here\n"
   ]
  },
  {
   "cell_type": "markdown",
   "id": "fac2f729",
   "metadata": {},
   "source": [
    "11. Does one sex appear to have a significantly different median tip percentage? "
   ]
  },
  {
   "cell_type": "code",
   "execution_count": null,
   "id": "d541b914",
   "metadata": {},
   "outputs": [],
   "source": [
    "## code here\n"
   ]
  },
  {
   "cell_type": "markdown",
   "id": "56ea72cc",
   "metadata": {},
   "source": [
    "12. What are the unique days of the week in the data?"
   ]
  },
  {
   "cell_type": "code",
   "execution_count": null,
   "id": "e54e9a3b",
   "metadata": {},
   "outputs": [],
   "source": [
    "## code here\n"
   ]
  },
  {
   "cell_type": "markdown",
   "id": "fb17aef6",
   "metadata": {},
   "source": [
    "13. Make a 1 by 4 grid of scatter plots plotting the tip on the vertical axis and the total bill on the horizontal axis. Each subplot should only plot the points for a unique day of the week."
   ]
  },
  {
   "cell_type": "code",
   "execution_count": null,
   "id": "74f89d20",
   "metadata": {},
   "outputs": [],
   "source": [
    "## code here\n"
   ]
  },
  {
   "cell_type": "markdown",
   "id": "1df2cd12",
   "metadata": {},
   "source": [
    "--------------------------\n",
    "\n",
    "This notebook was written for the Erd&#337;s Institute C&#337;de Data Science Boot Camp by Matthew Osborne, Ph. D., 2023.\n",
    "\n",
    "Any potential redistributors must seek and receive permission from Matthew Tyler Osborne, Ph.D. prior to redistribution. Redistribution of the material contained in this repository is conditional on acknowledgement of Matthew Tyler Osborne, Ph.D.'s original authorship and sponsorship of the Erdős Institute as subject to the license (see License.md)"
   ]
  },
  {
   "cell_type": "code",
   "execution_count": null,
   "id": "3e4e8612",
   "metadata": {},
   "outputs": [],
   "source": []
  }
 ],
 "metadata": {
  "kernelspec": {
   "display_name": "Python 3 (ipykernel)",
   "language": "python",
   "name": "python3"
  },
  "language_info": {
   "codemirror_mode": {
    "name": "ipython",
    "version": 3
   },
   "file_extension": ".py",
   "mimetype": "text/x-python",
   "name": "python",
   "nbconvert_exporter": "python",
   "pygments_lexer": "ipython3",
   "version": "3.9.15"
  }
 },
 "nbformat": 4,
 "nbformat_minor": 5
}
