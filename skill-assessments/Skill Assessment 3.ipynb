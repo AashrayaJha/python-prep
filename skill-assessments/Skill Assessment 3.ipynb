{
 "cells": [
  {
   "cell_type": "markdown",
   "id": "2ab1ba76",
   "metadata": {},
   "source": [
    "# Skill Assessment 3"
   ]
  },
  {
   "cell_type": "markdown",
   "id": "f927be07",
   "metadata": {},
   "source": [
    "1. Read in the text of <u>Hamlet</u>. It is stored in `hamlet.txt` in the `data` folder."
   ]
  },
  {
   "cell_type": "code",
   "execution_count": null,
   "id": "1ba868f3",
   "metadata": {},
   "outputs": [],
   "source": [
    "## code here\n"
   ]
  },
  {
   "cell_type": "markdown",
   "id": "b1528974",
   "metadata": {},
   "source": [
    "2. Save the lines of the text file in a list called `lines`, then close the file. Feel free to look at the lines, if you would like."
   ]
  },
  {
   "cell_type": "code",
   "execution_count": null,
   "id": "7b141097",
   "metadata": {},
   "outputs": [],
   "source": [
    "## code here\n"
   ]
  },
  {
   "cell_type": "code",
   "execution_count": null,
   "id": "b4c9fdc3",
   "metadata": {},
   "outputs": [],
   "source": [
    "## code here\n"
   ]
  },
  {
   "cell_type": "markdown",
   "id": "3266af4e",
   "metadata": {},
   "source": [
    "3. You will now start the process of cleaning the text of the file. \n",
    "\n",
    "* Remove the first seven lines which contain metadata.\n",
    "\n",
    "* Additionally, remove any line that is just equal to `\"\\n\"`."
   ]
  },
  {
   "cell_type": "code",
   "execution_count": null,
   "id": "31fbcd75",
   "metadata": {},
   "outputs": [],
   "source": [
    "## code here\n"
   ]
  },
  {
   "cell_type": "code",
   "execution_count": null,
   "id": "12a4dc9d",
   "metadata": {},
   "outputs": [],
   "source": [
    "## code here\n"
   ]
  },
  {
   "cell_type": "markdown",
   "id": "da69e1b8",
   "metadata": {},
   "source": [
    "4. The code below creates a list called `punctuation` which contains the most common punctuation strings. Write a function that takes in a string and `replace`s all of the punctuation in the string with a `\" \"`. Use that function to remove all punctuation from the lines of the text."
   ]
  },
  {
   "cell_type": "code",
   "execution_count": null,
   "id": "c41d10eb",
   "metadata": {},
   "outputs": [],
   "source": [
    "from string import punctuation"
   ]
  },
  {
   "cell_type": "code",
   "execution_count": null,
   "id": "34089ddf",
   "metadata": {},
   "outputs": [],
   "source": [
    "punctuation = [p for p in punctuation]\n",
    "punctuation.extend([\"“\", \"”\", \"...\", \"’\", \"—\", \"…\", \"»\"])"
   ]
  },
  {
   "cell_type": "code",
   "execution_count": null,
   "id": "e18ff7af",
   "metadata": {},
   "outputs": [],
   "source": [
    "## code here\n"
   ]
  },
  {
   "cell_type": "code",
   "execution_count": null,
   "id": "3c38e410",
   "metadata": {},
   "outputs": [],
   "source": [
    "## code here\n"
   ]
  },
  {
   "cell_type": "code",
   "execution_count": null,
   "id": "70705729",
   "metadata": {},
   "outputs": [],
   "source": [
    "## code here\n"
   ]
  },
  {
   "cell_type": "markdown",
   "id": "acd675e8",
   "metadata": {},
   "source": [
    "5. Use `.strip()` to remove the whitespace at the beginning and end of each line of text."
   ]
  },
  {
   "cell_type": "code",
   "execution_count": null,
   "id": "a09d4952",
   "metadata": {},
   "outputs": [],
   "source": [
    "## code here\n"
   ]
  },
  {
   "cell_type": "code",
   "execution_count": null,
   "id": "75cd10e2",
   "metadata": {},
   "outputs": [],
   "source": [
    "## code here\n"
   ]
  },
  {
   "cell_type": "markdown",
   "id": "8c36ea53",
   "metadata": {},
   "source": [
    "6. Count the unique words, ignoring case, used in the text and store those counts in a dictionary. \n",
    "\n",
    "<i>Hint: `.split()` may be useful, <a href=\"https://docs.python.org/3/library/stdtypes.html#str.split\">https://docs.python.org/3/library/stdtypes.html#str.split</a></i>."
   ]
  },
  {
   "cell_type": "code",
   "execution_count": null,
   "id": "7b695569",
   "metadata": {},
   "outputs": [],
   "source": [
    "## code here\n"
   ]
  },
  {
   "cell_type": "code",
   "execution_count": null,
   "id": "078d571f",
   "metadata": {},
   "outputs": [],
   "source": [
    "## code here\n"
   ]
  },
  {
   "cell_type": "markdown",
   "id": "75e5bba4",
   "metadata": {},
   "source": [
    "7. Make a `pandas` `DataFrame`containing the information you produced in 7. What are the 25 most used words?"
   ]
  },
  {
   "cell_type": "code",
   "execution_count": null,
   "id": "b24414bd",
   "metadata": {},
   "outputs": [],
   "source": [
    "## code here\n"
   ]
  },
  {
   "cell_type": "code",
   "execution_count": null,
   "id": "ea179b6d",
   "metadata": {},
   "outputs": [],
   "source": [
    "## code here\n"
   ]
  },
  {
   "cell_type": "code",
   "execution_count": null,
   "id": "1f32e368",
   "metadata": {},
   "outputs": [],
   "source": [
    "## code here\n"
   ]
  },
  {
   "cell_type": "markdown",
   "id": "8ff0b15e",
   "metadata": {},
   "source": [
    "8. A common step in text analysis (or natural language processing) is removing what are known as <i>stop words</i>. Stop words are commonly used words in a language that do not significantly contribute to the content of the text, for example the word \"the\". In the `data` folder there is `stopwords.csv` which contains a list of English stop words. Use this list to produce a word count `DataFrame` that does not contain these stop words. Then reexamine the top 25 words."
   ]
  },
  {
   "cell_type": "code",
   "execution_count": null,
   "id": "90c5ba66",
   "metadata": {},
   "outputs": [],
   "source": [
    "## code here\n"
   ]
  },
  {
   "cell_type": "code",
   "execution_count": null,
   "id": "725cbe51",
   "metadata": {},
   "outputs": [],
   "source": [
    "## code here\n"
   ]
  },
  {
   "cell_type": "code",
   "execution_count": null,
   "id": "ea332cff",
   "metadata": {},
   "outputs": [],
   "source": [
    "## code here\n"
   ]
  },
  {
   "cell_type": "code",
   "execution_count": null,
   "id": "0086c841",
   "metadata": {},
   "outputs": [],
   "source": [
    "## code here\n"
   ]
  },
  {
   "cell_type": "markdown",
   "id": "75b70863",
   "metadata": {},
   "source": [
    "9. Using `matplotlib`'s `barh` function, <a href=\"https://matplotlib.org/stable/api/_as_gen/matplotlib.pyplot.barh.html\">https://matplotlib.org/stable/api/_as_gen/matplotlib.pyplot.barh.html</a>. Make a horizontal bar chart presenting the top 50 most used words from <u>Hamlet</u> (not including stop words)."
   ]
  },
  {
   "cell_type": "code",
   "execution_count": null,
   "id": "56b09367",
   "metadata": {},
   "outputs": [],
   "source": [
    "## code here\n"
   ]
  },
  {
   "cell_type": "code",
   "execution_count": null,
   "id": "5899f30d",
   "metadata": {},
   "outputs": [],
   "source": [
    "## code here\n"
   ]
  },
  {
   "cell_type": "markdown",
   "id": "d3722c69",
   "metadata": {},
   "source": [
    "10. Using `numpy`'s `.log()` function, plot the log of the rank of the word's usage (e.g. \"hamlet\" is rank 1, \"lord\" is rank 2, \"king\" is rank 3\", etc.) on the horizontal axis, and the log of the word's total usage on the vertical axis. Plot this as a scatter plot. What you will see is a demonstration of <i>Zipf's Law</i>, which is an observed phenomenon in human language. Zipf's law states that the frequency of a word in a piece of text is inversely proportional to the rank of that word, <a href=\"https://en.wikipedia.org/wiki/Zipf%27s_law\">https://en.wikipedia.org/wiki/Zipf%27s_law</a>.\n",
    "\n",
    "<i>Note: Ignore ties in word usage when finding the rank.</i>"
   ]
  },
  {
   "cell_type": "code",
   "execution_count": null,
   "id": "ebfe6917",
   "metadata": {},
   "outputs": [],
   "source": [
    "## code here\n"
   ]
  },
  {
   "cell_type": "code",
   "execution_count": null,
   "id": "7684c38f",
   "metadata": {},
   "outputs": [],
   "source": [
    "## code here\n"
   ]
  },
  {
   "cell_type": "markdown",
   "id": "b758d1f2",
   "metadata": {},
   "source": [
    "--------------------------\n",
    "\n",
    "This notebook was written for the Erd&#337;s Institute C&#337;de Data Science Boot Camp by Matthew Osborne, Ph. D., 2023.  Modified by Steven Gubkin 2024.\n",
    "\n",
    "Any potential redistributors must seek and receive permission from Matthew Tyler Osborne, Ph.D. prior to redistribution. Redistribution of the material contained in this repository is conditional on acknowledgement of Matthew Tyler Osborne, Ph.D.'s original authorship and sponsorship of the Erdős Institute as subject to the license (see License.md)"
   ]
  },
  {
   "cell_type": "code",
   "execution_count": null,
   "id": "e2593f6f",
   "metadata": {},
   "outputs": [],
   "source": []
  }
 ],
 "metadata": {
  "kernelspec": {
   "display_name": "Python 3 (ipykernel)",
   "language": "python",
   "name": "python3"
  },
  "language_info": {
   "codemirror_mode": {
    "name": "ipython",
    "version": 3
   },
   "file_extension": ".py",
   "mimetype": "text/x-python",
   "name": "python",
   "nbconvert_exporter": "python",
   "pygments_lexer": "ipython3",
   "version": "3.11.7"
  }
 },
 "nbformat": 4,
 "nbformat_minor": 5
}
