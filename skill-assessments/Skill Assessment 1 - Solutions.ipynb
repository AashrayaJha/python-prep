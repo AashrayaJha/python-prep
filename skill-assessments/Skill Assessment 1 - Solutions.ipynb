{
 "cells": [
  {
   "cell_type": "markdown",
   "id": "bd5f0a6a",
   "metadata": {},
   "source": [
    "# Skill Assessment 1"
   ]
  },
  {
   "cell_type": "markdown",
   "id": "2bf60218",
   "metadata": {},
   "source": [
    "1. Extract the unique characters in the string stored in `sample_string`."
   ]
  },
  {
   "cell_type": "code",
   "execution_count": 1,
   "id": "11e2459a",
   "metadata": {},
   "outputs": [],
   "source": [
    "sample_string = \"I'm blue Da ba dee da ba di.\""
   ]
  },
  {
   "cell_type": "code",
   "execution_count": 2,
   "id": "8089369f",
   "metadata": {},
   "outputs": [
    {
     "data": {
      "text/plain": [
       "{' ', \"'\", '.', 'D', 'I', 'a', 'b', 'd', 'e', 'i', 'l', 'm', 'u'}"
      ]
     },
     "execution_count": 2,
     "metadata": {},
     "output_type": "execute_result"
    }
   ],
   "source": [
    "set(list([ch for ch in sample_string]))"
   ]
  },
  {
   "cell_type": "markdown",
   "id": "02a1637f",
   "metadata": {},
   "source": [
    "2. Write a function that can take in a string and return the unique characters. Test it on `sample_string` from 1."
   ]
  },
  {
   "cell_type": "code",
   "execution_count": 3,
   "id": "e8516ee5",
   "metadata": {},
   "outputs": [],
   "source": [
    "def get_unique_characters(text):\n",
    "    if type(text) == str:\n",
    "        return set(list([ch for ch in text]))\n",
    "    else:\n",
    "        return \"Error. Must input a string.\""
   ]
  },
  {
   "cell_type": "code",
   "execution_count": 4,
   "id": "958990b7",
   "metadata": {},
   "outputs": [
    {
     "data": {
      "text/plain": [
       "{' ', \"'\", '.', 'D', 'I', 'a', 'b', 'd', 'e', 'i', 'l', 'm', 'u'}"
      ]
     },
     "execution_count": 4,
     "metadata": {},
     "output_type": "execute_result"
    }
   ],
   "source": [
    "get_unique_characters(sample_string)"
   ]
  },
  {
   "cell_type": "markdown",
   "id": "83565e3a",
   "metadata": {},
   "source": [
    "3. Without using `numpy` make a list that contains the cumulative sums of the numbers in `list1`."
   ]
  },
  {
   "cell_type": "code",
   "execution_count": 5,
   "id": "d27c0e85",
   "metadata": {},
   "outputs": [],
   "source": [
    "list1 = [71, 88, 2, -2, 8, 11.3]"
   ]
  },
  {
   "cell_type": "code",
   "execution_count": 6,
   "id": "a5d7ff87",
   "metadata": {},
   "outputs": [
    {
     "data": {
      "text/plain": [
       "[71, 159, 161, 159, 167, 178.3]"
      ]
     },
     "execution_count": 6,
     "metadata": {},
     "output_type": "execute_result"
    }
   ],
   "source": [
    "[sum(list1[:i]) for i in range(1, len(list1)+1)]"
   ]
  },
  {
   "cell_type": "markdown",
   "id": "2abe4db5",
   "metadata": {},
   "source": [
    "4. Write a function that takes in a `list` of numbers and returns the cumulative sum without using `numpy`. You are allowed to compare your answer to the output of `numpy`'s `cumsum`."
   ]
  },
  {
   "cell_type": "code",
   "execution_count": 7,
   "id": "5d411716",
   "metadata": {},
   "outputs": [],
   "source": [
    "def cumsum(l):\n",
    "    return [sum(l[:i]) for i in range(1, len(l)+1)]"
   ]
  },
  {
   "cell_type": "code",
   "execution_count": 8,
   "id": "aecab948",
   "metadata": {},
   "outputs": [
    {
     "data": {
      "text/plain": [
       "[71, 159, 161, 159, 167, 178.3]"
      ]
     },
     "execution_count": 8,
     "metadata": {},
     "output_type": "execute_result"
    }
   ],
   "source": [
    "cumsum(list1)"
   ]
  },
  {
   "cell_type": "code",
   "execution_count": 9,
   "id": "f1809e49",
   "metadata": {},
   "outputs": [],
   "source": [
    "import numpy as np"
   ]
  },
  {
   "cell_type": "code",
   "execution_count": 10,
   "id": "8d10a170",
   "metadata": {},
   "outputs": [
    {
     "data": {
      "text/plain": [
       "array([ 71. , 159. , 161. , 159. , 167. , 178.3])"
      ]
     },
     "execution_count": 10,
     "metadata": {},
     "output_type": "execute_result"
    }
   ],
   "source": [
    "np.cumsum(list1)"
   ]
  },
  {
   "cell_type": "markdown",
   "id": "57d72181",
   "metadata": {},
   "source": [
    "5. Below is a dictionary called `pantry` which has various ingredients along with the amounts of which you have in your pantry and `choc_chip_cookies` which has the amount of each ingredient needed to make a batch of chocolate chip cookies. Write a function called `cook` which takes in a recipe and a pantry then checks that you have enough ingredients in your pantry to make the recipe:\n",
    "- if you do not have enough ingredients, the function prints out how much of each ingredient is needed to complete the recipe,\n",
    "- if you do have enough ingredients, the function should print `\"Taking ingredients out of the pantry!\"` and then update the `pantry` dictionary to reflect what ingredients were taken for the recipe.\n",
    "    \n",
    "Cook a batch of cookies."
   ]
  },
  {
   "cell_type": "code",
   "execution_count": 11,
   "id": "05f267fa",
   "metadata": {},
   "outputs": [],
   "source": [
    "pantry = {'butter': 8,\n",
    "          'flour': 7,\n",
    "          'salt': 16,\n",
    "          'white sugar': 5,\n",
    "          'brown sugar': 4,\n",
    "          'eggs': 8,\n",
    "          'vanilla extract': 3,\n",
    "          'oil':20,\n",
    "          'chocolate chips':6,\n",
    "          'peanut butter':2,\n",
    "          'baking soda': 9,\n",
    "          'baking powder': 11}\n",
    "\n",
    "choc_chip_cookies = {'butter':2,\n",
    "                     'flour':4,\n",
    "                     'eggs':1,\n",
    "                     'salt':2,\n",
    "                     'white sugar': 4,\n",
    "                     'brown sugar': 2,\n",
    "                     'vanilla extract': 1,\n",
    "                     'chocolate chips': 4,\n",
    "                     'baking soda':2}"
   ]
  },
  {
   "cell_type": "code",
   "execution_count": 12,
   "id": "2fde86b4",
   "metadata": {},
   "outputs": [],
   "source": [
    "def cook(recipe, pantry=pantry):\n",
    "    ## This will keep track of if I have enough\n",
    "    enough = {}\n",
    "    \n",
    "    ## for each ingredient in the recipe\n",
    "    for ingredient in recipe.keys():\n",
    "        ## check if the ingredient is in the pantry\n",
    "        if ingredient in pantry.keys():\n",
    "            ## see what would be left if I took what was needed\n",
    "            enough[ingredient] = pantry[ingredient] - recipe[ingredient]\n",
    "        else:\n",
    "            enough[ingredient] = -recipe[ingredient]\n",
    "            \n",
    "    ## see if any of the amounts was negative\n",
    "    if sum([value<0 for value in enough.values()]) > 0:\n",
    "        ## if so I need to pick up something\n",
    "        ## print out what I need to grab from the store\n",
    "        print(\"You need the following:\")\n",
    "        for ingredient,amount in enough.items():\n",
    "            if amount < 0:\n",
    "                print(-amount, ingredient)\n",
    "    else:\n",
    "        ## if not I'll take out the necessary ingredients\n",
    "        print(\"Taking ingredients out of the pantry!\")\n",
    "        for ingredient,amount in enough.items():\n",
    "            pantry[ingredient] = amount"
   ]
  },
  {
   "cell_type": "code",
   "execution_count": 13,
   "id": "304168a6",
   "metadata": {},
   "outputs": [
    {
     "name": "stdout",
     "output_type": "stream",
     "text": [
      "Taking ingredients out of the pantry!\n"
     ]
    }
   ],
   "source": [
    "cook(choc_chip_cookies)"
   ]
  },
  {
   "cell_type": "markdown",
   "id": "644c49ce",
   "metadata": {},
   "source": [
    "6. Write a function that takes in a dictionary of ingredients and adds them to the pantry. Add the ingredients in `shopping_trip` to the `pantry` from 5."
   ]
  },
  {
   "cell_type": "code",
   "execution_count": 14,
   "id": "0eaf5bf2",
   "metadata": {},
   "outputs": [],
   "source": [
    "shopping_trip = {'flour': 6,\n",
    "                 'pepper': 8,\n",
    "                 'cumen': 10,\n",
    "                 'coffee': 32,\n",
    "                 'white sugar':12}"
   ]
  },
  {
   "cell_type": "code",
   "execution_count": 15,
   "id": "9c835e38",
   "metadata": {},
   "outputs": [
    {
     "data": {
      "text/plain": [
       "{'butter': 6,\n",
       " 'flour': 3,\n",
       " 'salt': 14,\n",
       " 'white sugar': 1,\n",
       " 'brown sugar': 2,\n",
       " 'eggs': 7,\n",
       " 'vanilla extract': 2,\n",
       " 'oil': 20,\n",
       " 'chocolate chips': 2,\n",
       " 'peanut butter': 2,\n",
       " 'baking soda': 7,\n",
       " 'baking powder': 11}"
      ]
     },
     "execution_count": 15,
     "metadata": {},
     "output_type": "execute_result"
    }
   ],
   "source": [
    "pantry"
   ]
  },
  {
   "cell_type": "code",
   "execution_count": 16,
   "id": "db1bca97",
   "metadata": {},
   "outputs": [],
   "source": [
    "def stock_pantry(groceries, pantry=pantry):\n",
    "    for ingredient,amount in groceries.items():\n",
    "        if ingredient in pantry.keys():\n",
    "            pantry[ingredient] = pantry[ingredient] + amount\n",
    "        else:\n",
    "            pantry[ingredient] = amount"
   ]
  },
  {
   "cell_type": "code",
   "execution_count": 17,
   "id": "ae787768",
   "metadata": {},
   "outputs": [],
   "source": [
    "stock_pantry(shopping_trip)"
   ]
  },
  {
   "cell_type": "code",
   "execution_count": 18,
   "id": "8e8193b8",
   "metadata": {},
   "outputs": [
    {
     "data": {
      "text/plain": [
       "{'butter': 6,\n",
       " 'flour': 9,\n",
       " 'salt': 14,\n",
       " 'white sugar': 13,\n",
       " 'brown sugar': 2,\n",
       " 'eggs': 7,\n",
       " 'vanilla extract': 2,\n",
       " 'oil': 20,\n",
       " 'chocolate chips': 2,\n",
       " 'peanut butter': 2,\n",
       " 'baking soda': 7,\n",
       " 'baking powder': 11,\n",
       " 'pepper': 8,\n",
       " 'cumen': 10,\n",
       " 'coffee': 32}"
      ]
     },
     "execution_count": 18,
     "metadata": {},
     "output_type": "execute_result"
    }
   ],
   "source": [
    "pantry"
   ]
  },
  {
   "cell_type": "markdown",
   "id": "88335c39",
   "metadata": {},
   "source": [
    "7. Write a function that checks the `pantry` and tells you if any ingredients are less than or equal to 2:\n",
    "- for any item that is, print out the item and how much is left in the `pantry`,\n",
    "- if no items are running low, print `\"All ingredients in the cupboard are well stocked!\"`.\n",
    "Run this function, if your `pantry` is low on anything add more of the items you're running low on using the function in 6."
   ]
  },
  {
   "cell_type": "code",
   "execution_count": 19,
   "id": "2e3434ee",
   "metadata": {},
   "outputs": [],
   "source": [
    "def check_stock(pantry=pantry):\n",
    "    well_stocked = True\n",
    "    for item, amount in pantry.items():\n",
    "        if amount <= 2:\n",
    "            print(item, \"only has\", amount, \"left.\")\n",
    "            well_stocked = False\n",
    "    \n",
    "    if well_stocked:\n",
    "        print(\"All ingredients in the cupboard are well stocked!\")"
   ]
  },
  {
   "cell_type": "code",
   "execution_count": 20,
   "id": "c924bda3",
   "metadata": {},
   "outputs": [
    {
     "name": "stdout",
     "output_type": "stream",
     "text": [
      "brown sugar only has 2 left.\n",
      "vanilla extract only has 2 left.\n",
      "chocolate chips only has 2 left.\n",
      "peanut butter only has 2 left.\n"
     ]
    }
   ],
   "source": [
    "check_stock()"
   ]
  },
  {
   "cell_type": "code",
   "execution_count": 21,
   "id": "bd9a48b0",
   "metadata": {},
   "outputs": [],
   "source": [
    "stock_pantry({'brown sugar': 8,\n",
    "              'vanilla extract': 20,\n",
    "              'chocolate chips': 8,\n",
    "              'peanut butter': 10})"
   ]
  },
  {
   "cell_type": "code",
   "execution_count": 22,
   "id": "ce84a143",
   "metadata": {},
   "outputs": [
    {
     "name": "stdout",
     "output_type": "stream",
     "text": [
      "All ingredients in the cupboard are well stocked!\n"
     ]
    }
   ],
   "source": [
    "check_stock()"
   ]
  },
  {
   "cell_type": "markdown",
   "id": "95f71bed",
   "metadata": {},
   "source": [
    "8. Write a function that checks if a given ingredient is in the pantry. Check if you have any `\"mustard\"` or `\"cumen\"` in the pantry."
   ]
  },
  {
   "cell_type": "code",
   "execution_count": 23,
   "id": "c3350c55",
   "metadata": {},
   "outputs": [],
   "source": [
    "def in_pantry(ingredient):\n",
    "    if ingredient in pantry.keys():\n",
    "        print(\"We have\", pantry[ingredient], \"in the pantry.\")\n",
    "    else:\n",
    "        print(\"We have no\", ingredient, \"in the pantry.\")"
   ]
  },
  {
   "cell_type": "code",
   "execution_count": 24,
   "id": "5e2aa567",
   "metadata": {},
   "outputs": [
    {
     "name": "stdout",
     "output_type": "stream",
     "text": [
      "We have no mustard in the pantry.\n"
     ]
    }
   ],
   "source": [
    "in_pantry(\"mustard\")"
   ]
  },
  {
   "cell_type": "code",
   "execution_count": 25,
   "id": "e8061ae5",
   "metadata": {},
   "outputs": [
    {
     "name": "stdout",
     "output_type": "stream",
     "text": [
      "We have 10 in the pantry.\n"
     ]
    }
   ],
   "source": [
    "in_pantry(\"cumen\")"
   ]
  },
  {
   "cell_type": "markdown",
   "id": "7ae77832",
   "metadata": {},
   "source": [
    "9. (More Advanced Question) You can retrieve user input with `input(a string)`. Run the code chunk below to see an example. Use `input` to code up a function called `guess_a_number` that prompts the user to think of an integer between $1$ and $100$ (inclusive) and keeps guessing the number until the user tells it that it successfully guessed the number. Have the user type `H` to indicate that the correct number is higher than the computer's guess, `L` to indicate that the correct number is lower than the guess, and `C` to indicate the guess is correct."
   ]
  },
  {
   "cell_type": "code",
   "execution_count": 26,
   "id": "5d51d4df",
   "metadata": {},
   "outputs": [
    {
     "name": "stdout",
     "output_type": "stream",
     "text": [
      "Type whatever you want here, then I will print it for you.Hello Perry.\n",
      "You typed:\n",
      "Hello Perry.\n"
     ]
    }
   ],
   "source": [
    "x = input(\"Type whatever you want here, then I will print it for you.\")\n",
    "print(\"You typed:\")\n",
    "print(x)"
   ]
  },
  {
   "cell_type": "code",
   "execution_count": 27,
   "id": "b9899034",
   "metadata": {},
   "outputs": [],
   "source": [
    "def guess_a_number():\n",
    "    print(\"I hope you are ready to play a game! :D\")\n",
    "    print(\"Think of a number between 1 and 100.\")\n",
    "    x=input(\"Type anything when you are ready.\")\n",
    "    ## ensure that x is not 'C'\n",
    "    x = 'N'\n",
    "    print(\"Great!\")\n",
    "    \n",
    "    ## Set initial guess, upper limit, and lower limit\n",
    "    upper = 101\n",
    "    lower = 0\n",
    "    guess = 50\n",
    "    print(\"Hmmmmm....\")\n",
    "    \n",
    "    ## while I am not correct\n",
    "    while x.upper() != 'C':\n",
    "        ## present the guess\n",
    "        print(\"Is\", guess, \"your number?\")\n",
    "        ## get the user input\n",
    "        x = input(\"Type H if your number is higher, L if your number is lower, or C if I'm correct.\")\n",
    "    \n",
    "        ## making sure the user inputs one of h, l, or c in any case\n",
    "        while x.upper() not in ['H', 'L', 'C']:\n",
    "            x = input(\"Try againType H if your number is higher, L if your number is lower, or C if I'm correct.\")\n",
    "        \n",
    "        ## if I need to guess higher\n",
    "        if x.upper() == 'H':\n",
    "            ## update the lower bound\n",
    "            lower = guess\n",
    "            ## update the guess\n",
    "            guess = int((upper + guess)/2)\n",
    "        ## if I need to guess lower\n",
    "        elif x.upper() == 'L':\n",
    "            ## update the upper bound\n",
    "            upper = guess\n",
    "            ## update the guess\n",
    "            guess = int((lower + guess)/2)\n",
    "        \n",
    "    ## celebrate.\n",
    "    print(\"Woohoo, I knew it!\")"
   ]
  },
  {
   "cell_type": "code",
   "execution_count": 28,
   "id": "df99e408",
   "metadata": {},
   "outputs": [
    {
     "name": "stdout",
     "output_type": "stream",
     "text": [
      "I hope you are ready to play a game! :D\n",
      "Think of a number between 1 and 100.\n",
      "Type anything when you are ready.asdf\n",
      "Great!\n",
      "Hmmmmm....\n",
      "Is 50 your number?\n",
      "Type H if your number is higher, L if your number is lower, or C if I'm correct.asdf\n",
      "Try againType H if your number is higher, L if your number is lower, or C if I'm correct.asdf\n",
      "Try againType H if your number is higher, L if your number is lower, or C if I'm correct.asdf\n",
      "Try againType H if your number is higher, L if your number is lower, or C if I'm correct.asdf\n",
      "Try againType H if your number is higher, L if your number is lower, or C if I'm correct.L\n",
      "Is 25 your number?\n",
      "Type H if your number is higher, L if your number is lower, or C if I'm correct.L\n",
      "Is 12 your number?\n",
      "Type H if your number is higher, L if your number is lower, or C if I'm correct.L\n",
      "Is 6 your number?\n",
      "Type H if your number is higher, L if your number is lower, or C if I'm correct.H\n",
      "Is 9 your number?\n",
      "Type H if your number is higher, L if your number is lower, or C if I'm correct.H\n",
      "Is 10 your number?\n",
      "Type H if your number is higher, L if your number is lower, or C if I'm correct.C\n",
      "Woohoo, I knew it!\n"
     ]
    }
   ],
   "source": [
    "guess_a_number()"
   ]
  },
  {
   "cell_type": "markdown",
   "id": "d54d4ffc",
   "metadata": {},
   "source": [
    "--------------------------\n",
    "\n",
    "This notebook was written for the Erd&#337;s Institute C&#337;de Data Science Boot Camp by Matthew Osborne, Ph. D., 2023.\n",
    "\n",
    "Any potential redistributors must seek and receive permission from Matthew Tyler Osborne, Ph.D. prior to redistribution. Redistribution of the material contained in this repository is conditional on acknowledgement of Matthew Tyler Osborne, Ph.D.'s original authorship and sponsorship of the Erdős Institute as subject to the license (see License.md)"
   ]
  },
  {
   "cell_type": "code",
   "execution_count": null,
   "id": "baf0b7d2",
   "metadata": {},
   "outputs": [],
   "source": []
  }
 ],
 "metadata": {
  "kernelspec": {
   "display_name": "Python 3 (ipykernel)",
   "language": "python",
   "name": "python3"
  },
  "language_info": {
   "codemirror_mode": {
    "name": "ipython",
    "version": 3
   },
   "file_extension": ".py",
   "mimetype": "text/x-python",
   "name": "python",
   "nbconvert_exporter": "python",
   "pygments_lexer": "ipython3",
   "version": "3.9.15"
  }
 },
 "nbformat": 4,
 "nbformat_minor": 5
}
