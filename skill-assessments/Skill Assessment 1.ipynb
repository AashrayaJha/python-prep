{
 "cells": [
  {
   "cell_type": "markdown",
   "id": "bd5f0a6a",
   "metadata": {},
   "source": [
    "# Skill Assessment 1"
   ]
  },
  {
   "cell_type": "markdown",
   "id": "2bf60218",
   "metadata": {},
   "source": [
    "1. Extract the unique characters in the string stored in `sample_string`."
   ]
  },
  {
   "cell_type": "code",
   "execution_count": null,
   "id": "11e2459a",
   "metadata": {},
   "outputs": [],
   "source": [
    "sample_string = \"I'm blue Da ba dee da ba di.\""
   ]
  },
  {
   "cell_type": "code",
   "execution_count": null,
   "id": "8089369f",
   "metadata": {},
   "outputs": [],
   "source": [
    "## code here\n",
    "\n"
   ]
  },
  {
   "cell_type": "code",
   "execution_count": null,
   "id": "beffcc4c",
   "metadata": {},
   "outputs": [],
   "source": [
    "## code here\n",
    "\n"
   ]
  },
  {
   "cell_type": "markdown",
   "id": "02a1637f",
   "metadata": {},
   "source": [
    "2. Write a function that can take in a string and return the unique characters. Test it on `sample_string` from 1."
   ]
  },
  {
   "cell_type": "code",
   "execution_count": null,
   "id": "e8516ee5",
   "metadata": {},
   "outputs": [],
   "source": [
    "## code here\n",
    "\n"
   ]
  },
  {
   "cell_type": "code",
   "execution_count": null,
   "id": "3a24a67f",
   "metadata": {},
   "outputs": [],
   "source": [
    "## code here\n",
    "\n"
   ]
  },
  {
   "cell_type": "markdown",
   "id": "83565e3a",
   "metadata": {},
   "source": [
    "3. Without using `numpy` make a list that contains the cumulative sums of the numbers in `list1`."
   ]
  },
  {
   "cell_type": "code",
   "execution_count": null,
   "id": "d27c0e85",
   "metadata": {},
   "outputs": [],
   "source": [
    "list1 = [71, 88, 2, -2, 8, 11.3]"
   ]
  },
  {
   "cell_type": "code",
   "execution_count": null,
   "id": "a5d7ff87",
   "metadata": {},
   "outputs": [],
   "source": [
    "## code here\n",
    "\n"
   ]
  },
  {
   "cell_type": "code",
   "execution_count": null,
   "id": "12e1f6a4",
   "metadata": {},
   "outputs": [],
   "source": [
    "## code here\n",
    "\n"
   ]
  },
  {
   "cell_type": "markdown",
   "id": "2abe4db5",
   "metadata": {},
   "source": [
    "4. Write a function that takes in a `list` of numbers and returns the cumulative sum without using `numpy`. You are allowed to compare your answer to the output of `numpy`'s `cumsum`."
   ]
  },
  {
   "cell_type": "code",
   "execution_count": null,
   "id": "5d411716",
   "metadata": {},
   "outputs": [],
   "source": [
    "## code here\n"
   ]
  },
  {
   "cell_type": "code",
   "execution_count": null,
   "id": "d1f000d4",
   "metadata": {},
   "outputs": [],
   "source": [
    "## code here\n"
   ]
  },
  {
   "cell_type": "code",
   "execution_count": null,
   "id": "171b289b",
   "metadata": {},
   "outputs": [],
   "source": [
    "## code here\n"
   ]
  },
  {
   "cell_type": "code",
   "execution_count": null,
   "id": "25ecada9",
   "metadata": {},
   "outputs": [],
   "source": [
    "## code here\n"
   ]
  },
  {
   "cell_type": "markdown",
   "id": "57d72181",
   "metadata": {},
   "source": [
    "5. Below is a dictionary called `pantry` which has various ingredients along with the amounts of which you have in your pantry and `choc_chip_cookies` which has the amount of each ingredient needed to make a batch of chocolate chip cookies. Write a function called `cook` which takes in a recipe and a pantry then checks that you have enough ingredients in your pantry to make the recipe:\n",
    "- if you do not have enough ingredients, the function prints out how much of each ingredient is needed to complete the recipe,\n",
    "- if you do have enough ingredients, the function should print `\"Taking ingredients out of the pantry!\"` and then update the `pantry` dictionary to reflect what ingredients were taken for the recipe.\n",
    "    \n",
    "Cook a batch of cookies."
   ]
  },
  {
   "cell_type": "code",
   "execution_count": null,
   "id": "05f267fa",
   "metadata": {},
   "outputs": [],
   "source": [
    "pantry = {'butter': 8,\n",
    "          'flour': 7,\n",
    "          'salt': 16,\n",
    "          'white sugar': 5,\n",
    "          'brown sugar': 4,\n",
    "          'eggs': 8,\n",
    "          'vanilla extract': 3,\n",
    "          'oil':20,\n",
    "          'chocolate chips':6,\n",
    "          'peanut butter':2,\n",
    "          'baking soda': 9,\n",
    "          'baking powder': 11}\n",
    "\n",
    "choc_chip_cookies = {'butter':2,\n",
    "                     'flour':4,\n",
    "                     'eggs':1,\n",
    "                     'salt':2,\n",
    "                     'white sugar': 4,\n",
    "                     'brown sugar': 2,\n",
    "                     'vanilla extract': 1,\n",
    "                     'chocolate chips': 4,\n",
    "                     'baking soda':2}"
   ]
  },
  {
   "cell_type": "code",
   "execution_count": null,
   "id": "2fde86b4",
   "metadata": {},
   "outputs": [],
   "source": [
    "## code here\n",
    "\n",
    "\n"
   ]
  },
  {
   "cell_type": "code",
   "execution_count": null,
   "id": "2fc4f82c",
   "metadata": {},
   "outputs": [],
   "source": [
    "## code here\n",
    "\n",
    "\n"
   ]
  },
  {
   "cell_type": "markdown",
   "id": "644c49ce",
   "metadata": {},
   "source": [
    "6. Write a function that takes in a dictionary of ingredients and adds them to the pantry. Add the ingredients in `shopping_trip` to the `pantry` from 5."
   ]
  },
  {
   "cell_type": "code",
   "execution_count": null,
   "id": "0eaf5bf2",
   "metadata": {},
   "outputs": [],
   "source": [
    "shopping_trip = {'flour': 6,\n",
    "                 'pepper': 8,\n",
    "                 'cumen': 10,\n",
    "                 'coffee': 32,\n",
    "                 'white sugar':12}"
   ]
  },
  {
   "cell_type": "code",
   "execution_count": null,
   "id": "9c835e38",
   "metadata": {},
   "outputs": [],
   "source": [
    "## code here\n",
    "\n"
   ]
  },
  {
   "cell_type": "code",
   "execution_count": null,
   "id": "50ba3ef4",
   "metadata": {},
   "outputs": [],
   "source": [
    "## code here\n",
    "\n"
   ]
  },
  {
   "cell_type": "code",
   "execution_count": null,
   "id": "6053bcbb",
   "metadata": {},
   "outputs": [],
   "source": [
    "## code here\n",
    "\n"
   ]
  },
  {
   "cell_type": "code",
   "execution_count": null,
   "id": "1349a0ae",
   "metadata": {},
   "outputs": [],
   "source": [
    "## code here\n",
    "\n"
   ]
  },
  {
   "cell_type": "markdown",
   "id": "88335c39",
   "metadata": {},
   "source": [
    "7. Write a function that checks the `pantry` and tells you if any ingredients are less than or equal to 2:\n",
    "- for any item that is, print out the item and how much is left in the `pantry`,\n",
    "- if no items are running low, print `\"All ingredients in the cupboard are well stocked!\"`.\n",
    "Run this function, if your `pantry` is low on anything add more of the items you're running low on using the function in 6."
   ]
  },
  {
   "cell_type": "code",
   "execution_count": null,
   "id": "2e3434ee",
   "metadata": {},
   "outputs": [],
   "source": [
    "## code here\n",
    "\n"
   ]
  },
  {
   "cell_type": "code",
   "execution_count": null,
   "id": "15186c72",
   "metadata": {},
   "outputs": [],
   "source": [
    "## code here\n",
    "\n"
   ]
  },
  {
   "cell_type": "code",
   "execution_count": null,
   "id": "45701d71",
   "metadata": {},
   "outputs": [],
   "source": [
    "## code here\n",
    "\n"
   ]
  },
  {
   "cell_type": "markdown",
   "id": "95f71bed",
   "metadata": {},
   "source": [
    "8. Write a function that checks if a given ingredient is in the pantry. Check if you have any `\"mustard\"` or `\"cumen\"` in the pantry."
   ]
  },
  {
   "cell_type": "code",
   "execution_count": null,
   "id": "c3350c55",
   "metadata": {},
   "outputs": [],
   "source": [
    "## code here\n",
    "\n",
    "\n"
   ]
  },
  {
   "cell_type": "code",
   "execution_count": null,
   "id": "38038f7f",
   "metadata": {},
   "outputs": [],
   "source": [
    "## code here\n",
    "\n",
    "\n"
   ]
  },
  {
   "cell_type": "code",
   "execution_count": null,
   "id": "604143a1",
   "metadata": {},
   "outputs": [],
   "source": [
    "## code here\n",
    "\n",
    "\n"
   ]
  },
  {
   "cell_type": "code",
   "execution_count": null,
   "id": "bcaf0752",
   "metadata": {},
   "outputs": [],
   "source": [
    "## code here\n",
    "\n",
    "\n"
   ]
  },
  {
   "cell_type": "markdown",
   "id": "7ae77832",
   "metadata": {},
   "source": [
    "9. (More Advanced Question) You can retrieve user input with `input(a string)`. Run the code chunk below to see an example. Use `input` to code up a function called `guess_a_number` that prompts the user to think of an integer between $1$ and $100$ (inclusive) and keeps guessing the number until the user tells it that it successfully guessed the number. Have the user type `H` to indicate that the correct number is higher than the computer's guess, `L` to indicate that the correct number is lower than the guess, and `C` to indicate the guess is correct."
   ]
  },
  {
   "cell_type": "code",
   "execution_count": null,
   "id": "5d51d4df",
   "metadata": {},
   "outputs": [],
   "source": [
    "## Example of input\n",
    "x = input(\"Type whatever you want here, then I will print it for you.\")\n",
    "print(\"You typed:\")\n",
    "print(x)"
   ]
  },
  {
   "cell_type": "code",
   "execution_count": null,
   "id": "b9899034",
   "metadata": {},
   "outputs": [],
   "source": [
    "## code here\n",
    "\n"
   ]
  },
  {
   "cell_type": "code",
   "execution_count": null,
   "id": "dcafe646",
   "metadata": {},
   "outputs": [],
   "source": [
    "## code here\n",
    "\n"
   ]
  },
  {
   "cell_type": "code",
   "execution_count": null,
   "id": "0e01aeb6",
   "metadata": {},
   "outputs": [],
   "source": [
    "## code here\n",
    "\n"
   ]
  },
  {
   "cell_type": "code",
   "execution_count": null,
   "id": "5359af14",
   "metadata": {},
   "outputs": [],
   "source": [
    "## code here\n",
    "\n"
   ]
  },
  {
   "cell_type": "code",
   "execution_count": null,
   "id": "df99e408",
   "metadata": {},
   "outputs": [],
   "source": [
    "## code here\n"
   ]
  },
  {
   "cell_type": "markdown",
   "id": "d54d4ffc",
   "metadata": {},
   "source": [
    "--------------------------\n",
    "\n",
    "This notebook was written for the Erd&#337;s Institute C&#337;de Data Science Boot Camp by Matthew Osborne, Ph. D., 2023.\n",
    "\n",
    "Any potential redistributors must seek and receive permission from Matthew Tyler Osborne, Ph.D. prior to redistribution. Redistribution of the material contained in this repository is conditional on acknowledgement of Matthew Tyler Osborne, Ph.D.'s original authorship and sponsorship of the Erdős Institute as subject to the license (see License.md)"
   ]
  },
  {
   "cell_type": "code",
   "execution_count": null,
   "id": "baf0b7d2",
   "metadata": {},
   "outputs": [],
   "source": []
  }
 ],
 "metadata": {
  "kernelspec": {
   "display_name": "Python 3 (ipykernel)",
   "language": "python",
   "name": "python3"
  },
  "language_info": {
   "codemirror_mode": {
    "name": "ipython",
    "version": 3
   },
   "file_extension": ".py",
   "mimetype": "text/x-python",
   "name": "python",
   "nbconvert_exporter": "python",
   "pygments_lexer": "ipython3",
   "version": "3.9.15"
  }
 },
 "nbformat": 4,
 "nbformat_minor": 5
}
