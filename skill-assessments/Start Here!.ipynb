{
 "cells": [
  {
   "cell_type": "markdown",
   "id": "19e9fb9b",
   "metadata": {},
   "source": [
    "# Start Here!\n",
    "\n",
    "The `jupyter notebook`s in this folder should serve as skill assessments for your understanding of the basic python material. You should treat these as quizzes or tests. Do not rely heavily on looking things up from the lectures or practice problems, although the occassional web search for a function or object is fine. There are three assessments that can be completed in any order you would like. Each assessment will come with a completed version that you can use as a check, however, just because your answer is different, does not mean that your answer is wrong. Remember that in coding there is often more than one way to solve a problem. Your answer may even be better than the posted solution.\n",
    "\n",
    "Good luck!"
   ]
  },
  {
   "cell_type": "markdown",
   "id": "f8be1329",
   "metadata": {},
   "source": [
    "--------------------------\n",
    "\n",
    "This notebook was written for the Erd&#337;s Institute C&#337;de Data Science Boot Camp by Matthew Osborne, Ph. D., 2023.\n",
    "\n",
    "Any potential redistributors must seek and receive permission from Matthew Tyler Osborne, Ph.D. prior to redistribution. Redistribution of the material contained in this repository is conditional on acknowledgement of Matthew Tyler Osborne, Ph.D.'s original authorship and sponsorship of the Erdős Institute as subject to the license (see License.md)"
   ]
  },
  {
   "cell_type": "code",
   "execution_count": null,
   "id": "9d7b2bf8",
   "metadata": {},
   "outputs": [],
   "source": []
  }
 ],
 "metadata": {
  "kernelspec": {
   "display_name": "Python 3 (ipykernel)",
   "language": "python",
   "name": "python3"
  },
  "language_info": {
   "codemirror_mode": {
    "name": "ipython",
    "version": 3
   },
   "file_extension": ".py",
   "mimetype": "text/x-python",
   "name": "python",
   "nbconvert_exporter": "python",
   "pygments_lexer": "ipython3",
   "version": "3.9.15"
  }
 },
 "nbformat": 4,
 "nbformat_minor": 5
}
